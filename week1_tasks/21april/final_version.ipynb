{
  "nbformat": 4,
  "nbformat_minor": 0,
  "metadata": {
    "colab": {
      "name": "week1_tasks.ipynb",
      "provenance": [],
      "collapsed_sections": [],
      "authorship_tag": "ABX9TyOjsXfX6QdQ6CUGKUiTTfVA",
      "include_colab_link": true
    },
    "kernelspec": {
      "name": "python3",
      "display_name": "Python 3"
    }
  },
  "cells": [
    {
      "cell_type": "markdown",
      "metadata": {
        "id": "view-in-github",
        "colab_type": "text"
      },
      "source": [
        "<a href=\"https://colab.research.google.com/github/shania-mitra/PRA3500/blob/master/week1_tasks/21april/final_version.ipynb\" target=\"_parent\"><img src=\"https://colab.research.google.com/assets/colab-badge.svg\" alt=\"Open In Colab\"/></a>"
      ]
    },
    {
      "cell_type": "code",
      "metadata": {
        "id": "ZJfdImhZxoHb",
        "colab_type": "code",
        "outputId": "4bfa6be0-70cc-4258-c207-858471f1cea9",
        "colab": {
          "base_uri": "https://localhost:8080/",
          "height": 343
        }
      },
      "source": [
        "\n",
        "#Import statements\n",
        "from sympy import symbols, Eq, solve\n",
        "import numpy as np\n",
        "import matplotlib.pyplot as plt\n",
        "from scipy.stats import poisson\n",
        "from scipy.stats import binom\n",
        "import seaborn as sb\n",
        "import sys\n",
        "from scipy.stats import expon\n",
        "\n",
        "\n",
        "\n",
        "#PROBABILITY RELATIONS\n",
        "#converting tree diagram to variables\n",
        "prob_no_antibodies = 0.99\n",
        "prob_antibodies = 1-prob_no_antibodies\n",
        "prob_true_positive = prob_antibodies*0.99\n",
        "prob_false_positive = prob_no_antibodies*0.05\n",
        "prob_true_negative = prob_no_antibodies*0.95\n",
        "prob_false_negative = prob_antibodies*0.01\n",
        "prob_positive = prob_true_positive + prob_false_positive\n",
        "prob_negative = prob_false_negative + prob_true_negative\n",
        "\n",
        "#probability of antibodies given person has positive results P(A|B)\n",
        "probTest_positiveAB = (prob_true_positive)/(prob_positive)\n",
        "print (probTest_positiveAB)\n",
        "\n",
        "# probablility of no antibodies given person has negative results P(A'|B')\n",
        "#using formula 2.4 obtained from Introduction to Statistics and Data Analysis for Physicists by Gerhard Bohm, Günter Zech\n",
        "\n",
        "probTest_negativeAB = (prob_true_negative)/(prob_negative)\n",
        "print(probTest_negativeAB)\n",
        "\n",
        "#FOLLOW UP TASK\n",
        "\n",
        "#P(A) = fraction of people with antibodies/ P(antibodies)\n",
        "#P(B) = probability of kit giving positive result/P(positive)\n",
        "#P(B) = 0.5 \n",
        "#thus, expression obtained for P(B) is 0.5 = 0.99P(A) + 0.05(1-P(A))\n",
        "#in code below, P(A) = x, solve for x:\n",
        "#https://pythonforundergradengineers.com/sympy-expressions-and-equations.html\n",
        "\n",
        "x,y = symbols('x y')\n",
        "expr = 0.99*x  + 0.05*y\n",
        "expr2 = expr.subs(y,1-x)\n",
        "eq1 = Eq(expr2 - 0.5)\n",
        "sol = solve((eq1),(x))\n",
        "sol \n",
        "print('The minimum probability of antibodies found in population if probability of a positive test was to be 0.5 or greater is P(A) =', sol)\n",
        "\n",
        "#graph\n",
        "\n",
        "\n",
        "\n",
        "x = np.arange(0, 1, 0.00000005)\n",
        "y = ((x - 0.05)/0.94)\n",
        "plt.plot(x,y)\n",
        "plt.xlabel('Probability of population with positive tests')\n",
        "plt.ylabel('Probability of population with antibodies present')\n",
        "plt.show()"
      ],
      "execution_count": 24,
      "outputs": [
        {
          "output_type": "stream",
          "text": [
            "0.1666666666666668\n",
            "0.9998936848819903\n",
            "The minimum probability of antibodies found in population if probability of a positive test was to be 0.5 or greater is P(A) = [0.478723404255319]\n"
          ],
          "name": "stdout"
        },
        {
          "output_type": "display_data",
          "data": {
            "image/png": "[encoded data removed]",
            "text/plain": [
              "<Figure size 432x288 with 1 Axes>"
            ]
          },
          "metadata": {
            "tags": []
          }
        }
      ]
    },
    {
      "cell_type": "code",
      "metadata": {
        "id": "mkB1IprRxxTo",
        "colab_type": "code",
        "colab": {}
      },
      "source": [
        "def get_area(array, upper, lower):\n",
        "  return np.sum(array[int(upper):int(lower)])/np.sum(array)"
      ],
      "execution_count": 0,
      "outputs": []
    },
    {
      "cell_type": "markdown",
      "metadata": {
        "id": "gsTIQheH9A8Q",
        "colab_type": "text"
      },
      "source": [
        "# PROBABILITY DISTRIBUTIONS"
      ]
    },
    {
      "cell_type": "code",
      "metadata": {
        "id": "6JOlXaOKx87s",
        "colab_type": "code",
        "outputId": "ecdf4b1d-f999-4c14-9002-b452dba21da5",
        "colab": {
          "base_uri": "https://localhost:8080/",
          "height": 398
        }
      },
      "source": [
        "#PROBABILITY DISTRIBUTIONS\n",
        "\n",
        "#Poisson Discrete Distribution - number of times an even occurs in a specific time period\n",
        "#eg: predicting how many people will enter your shop on a certain day using the average number of people entering your shop over a certain time period.\n",
        "\n",
        "\n",
        "\n",
        "sb.set_style('white')\n",
        "\n",
        "poisson_data = poisson.rvs(mu = 5, size = 1000)\n",
        "ax = sb.distplot (poisson_data , bins = 11, norm_hist=True,\n",
        "                   kde = False,\n",
        "                   color = 'crimson',\n",
        "                   hist_kws = {\"linewidth\": 15, 'alpha' : 1})\n",
        "ax.set(xlabel = 'Poisson', ylabel = 'Probability', xlim=(0,10))\n",
        "\n",
        "# The array is 1000 long - if I integrate from 0 to 500 I therefore end up\n",
        "# getting about 0.5 out which fits what we see\n",
        "print(\"Area under graph for 0 to 500 = \", get_area(poisson_data,0,500))\n",
        "\n",
        "#for entire range\n",
        "#get 1.0 as expect\n",
        "print(\"Area under graph for 0 to 1000 = \", get_area(poisson_data,0,1000))\n",
        "\n",
        "#enter values between which you want to find probability\n",
        "#if lower value greater than upper value, get 0\n",
        "low_lim_disc_poiss = int(input((\"Enter lower limit for range:\")))\n",
        "upper_lim_disc_poiss = int(input((\"Enter upper limit for range:\")))\n",
        "\n",
        "print(\"Area under graph within given range\", get_area(poisson_data,low_lim_disc_poiss,upper_lim_disc_poiss))\n",
        "\n",
        "# if you'd want to find the area until the 6th bin, can do this:\n",
        "# 11= number of bins, 6= bin until which to integrate, 1000= number of values in array\n",
        "#enter value for bin you want to find area till\n",
        "bin_disc_poiss = int(input(\"Enter n = bin till which you want the area: \"))\n",
        "\n",
        "print(\"area until nth bin:\", get_area(poisson_data,0,(bin_disc_poiss/11)*1000))"
      ],
      "execution_count": 26,
      "outputs": [
        {
          "output_type": "stream",
          "text": [
            "Area under graph for 0 to 500 =  0.5088\n",
            "Area under graph for 0 to 1000 =  1.0\n",
            "Enter lower limit for range:60\n",
            "Enter upper limit for range:600\n",
            "Area under graph within given range 0.5488\n",
            "Enter n = bin till which you want the area: 6\n",
            "area until nth bin: 0.5552\n"
          ],
          "name": "stdout"
        },
        {
          "output_type": "display_data",
          "data": {
            "image/png": "[encoded data removed]",
            "text/plain": [
              "<Figure size 432x288 with 1 Axes>"
            ]
          },
          "metadata": {
            "tags": []
          }
        }
      ]
    },
    {
      "cell_type": "code",
      "metadata": {
        "id": "P7hPX1Bhx_fp",
        "colab_type": "code",
        "outputId": "049dc81c-c13d-4f7f-a0ba-aa5a913aa82f",
        "colab": {
          "base_uri": "https://localhost:8080/",
          "height": 347
        }
      },
      "source": [
        "#Poisson continuous distribution\n",
        "\n",
        "sb.set_style('white')\n",
        "\n",
        "poisson_cont_data = poisson.rvs(mu = 5, size = 1000)\n",
        "bx = sb.distplot (poisson_cont_data , norm_hist= True,\n",
        "                   hist = False,\n",
        "                   kde = True,\n",
        "                   color = 'crimson',\n",
        "                   hist_kws = {\"linewidth\": 15, 'alpha' : 1})\n",
        "bx.set(xlabel = 'Poisson', ylabel = 'Probability', xlim=(0,10))\n",
        "\n",
        "#low_lim = int(input(\"Enter lower limit for probability:\"))\n",
        "#upper_lim = int(input(\"Enter upper limit for probability:\"))\n",
        "\n",
        "#area_cont_poisson = np.sum(poisson_data[low_lim,upper_lim])/np.sum(poisson_data)\n",
        "\n",
        "#print (area_cont_poisson)\n",
        "\n",
        "#for entire range\n",
        "#get 1.0 as expect\n",
        "print(\"Area under graph for 0 to 1000 = \", get_area(poisson_cont_data,0,1000))\n",
        "\n",
        "#enter values between which you want to find probability\n",
        "low_lim_cont_poiss = int(input((\"Enter lower limit for range:\")))\n",
        "upper_lim_cont_poiss = int(input((\"Enter upper limit for range:\")))\n",
        "\n",
        "print(\"Area under graph within given range\", get_area(poisson_cont_data,low_lim_disc_poiss,upper_lim_cont_poiss))\n"
      ],
      "execution_count": 27,
      "outputs": [
        {
          "output_type": "stream",
          "text": [
            "Area under graph for 0 to 1000 =  1.0\n",
            "Enter lower limit for range:60\n",
            "Enter upper limit for range:600\n",
            "Area under graph within given range 0.5558415841584159\n"
          ],
          "name": "stdout"
        },
        {
          "output_type": "display_data",
          "data": {
            "image/png": "[encoded data removed]",
            "text/plain": [
              "<Figure size 432x288 with 1 Axes>"
            ]
          },
          "metadata": {
            "tags": []
          }
        }
      ]
    },
    {
      "cell_type": "code",
      "metadata": {
        "id": "wf7NWej_yDao",
        "colab_type": "code",
        "outputId": "307a8c9a-fc77-4235-f585-80963b32a3e9",
        "colab": {
          "base_uri": "https://localhost:8080/",
          "height": 398
        }
      },
      "source": [
        "#Binomial Distribution\n",
        "\n",
        "\n",
        "sb.set_style('white')\n",
        "\n",
        "binom_data = binom.rvs(n = 10, p = 0.4, size = 1000)\n",
        "ax = sb.distplot (binom_data , bins = 11, hist = True, kde = True, rug=False, fit=None, hist_kws={\"linewidth\": 15, 'alpha' : 1},\n",
        "                  rug_kws=None, fit_kws=None, color = \"crimson\", vertical = False, norm_hist=True, axlabel=None, label=None, ax =None )\n",
        "ax.set(xlabel = 'Binomial', ylabel = 'Probability', xlim=(0,10))\n",
        "\n",
        "# The array is 1000 long - if I integrate from 0 to 500 I therefore end up\n",
        "# getting about 0.5 out which fits what we see\n",
        "print(\"Area under graph for 0 to 500 = \", get_area(binom_data,0,500))\n",
        "\n",
        "#for entire range\n",
        "#get 1.0 as expect\n",
        "print(\"Area under graph for 0 to 1000 = \", get_area(binom_data,0,1000))\n",
        "\n",
        "#enter values between which you want to find probability\n",
        "low_lim_disc_binom = int(input((\"Enter lower limit for range:\")))\n",
        "upper_lim_disc_binom = int(input((\"Enter upper limit for range:\")))\n",
        "\n",
        "print(\"Area under graph for given range\", get_area(binom_data,low_lim_disc_binom,upper_lim_disc_binom))\n",
        "\n",
        "# if you'd want to find the area until the 6th bin, can do this:\n",
        "# 11= number of bins, 6= bin until which to integrate, 1000= number of values in array\n",
        "#enter value for bin you want to find area till\n",
        "bin_disc_binom = int(input(\"Enter n = bin till which you want the area: \"))\n",
        "\n",
        "print(\"area until nth bin:\", get_area(binom_data,0,(bin_disc_binom/11)*1000))\n"
      ],
      "execution_count": 28,
      "outputs": [
        {
          "output_type": "stream",
          "text": [
            "Area under graph for 0 to 500 =  0.49586983729662076\n",
            "Area under graph for 0 to 1000 =  1.0\n",
            "Enter lower limit for range:6\n",
            "Enter upper limit for range:600\n",
            "Area under graph for given range 0.5912390488110137\n",
            "Enter n = bin till which you want the area: 6\n",
            "area until nth bin: 0.5434292866082603\n"
          ],
          "name": "stdout"
        },
        {
          "output_type": "display_data",
          "data": {
            "image/png": "[encoded data removed]",
            "text/plain": [
              "<Figure size 432x288 with 1 Axes>"
            ]
          },
          "metadata": {
            "tags": []
          }
        }
      ]
    },
    {
      "cell_type": "code",
      "metadata": {
        "id": "Q5gK4VJryeWb",
        "colab_type": "code",
        "outputId": "b01b925a-d5f4-4c9c-f8c3-89b272727d23",
        "colab": {
          "base_uri": "https://localhost:8080/",
          "height": 646
        }
      },
      "source": [
        "#Gaussian Distribution\n",
        "\n",
        "mean, stdev = 5, 1\n",
        "data = np.random.normal(mean, stdev, 1000)\n",
        "count, bins, ignored = plt.hist(data, 11, density =True, color ='crimson', range=[0,10])\n",
        "\n",
        "\n",
        "#to create bins and histograms\n",
        "a= plt.figure()\n",
        "axes= a.add_axes([0.1,0.1,0.8,0.8])\n",
        "\n",
        "axes.set_xlim([0,10])\n",
        "\n",
        "#Plot the distribution curve \n",
        "plt.plot(bins, 1/ (stdev*np.sqrt(2*np.pi))*np.exp(-(bins - mean)**2/(2*stdev**2)), linewidth =3, color ='y')\n",
        "plt.show()\n",
        "\n",
        "# The array is 1000 long - if I integrate from 0 to 500 I therefore end up\n",
        "# getting about 0.5 out which fits what we see\n",
        "print(\"Area under graph for 0 to 500 = \", get_area(data,0,500))\n",
        "\n",
        "#for entire range\n",
        "#get 1.0 as expect\n",
        "print(\"Area under graph for 0 to 1000 = \", get_area(data,0,1000))\n",
        "\n",
        "#enter values between which you want to find probability\n",
        "low_lim_disc_gauss = int(input((\"Enter lower limit for range:\")))\n",
        "upper_lim_disc_gauss = int(input((\"Enter upper limit for range:\")))\n",
        "\n",
        "print(\"Area under graph within given graph\", get_area(data,low_lim_disc_gauss,upper_lim_disc_gauss))\n",
        "\n",
        "# if you'd want to find the area until the 6th bin, can do this:\n",
        "# 11= number of bins, 6= bin until which to integrate, 1000= number of values in array\n",
        "#enter value for bin you want to find area till\n",
        "bin_disc_gauss = int(input(\"Enter n = bin till which you want the area: \"))\n",
        "\n",
        "print(\"area until nth bin:\", get_area(data,0,(bin_disc_gauss/11)*1000))\n"
      ],
      "execution_count": 29,
      "outputs": [
        {
          "output_type": "display_data",
          "data": {
            "image/png": "[encoded data removed]",
            "text/plain": [
              "<Figure size 432x288 with 1 Axes>"
            ]
          },
          "metadata": {
            "tags": []
          }
        },
        {
          "output_type": "display_data",
          "data": {
            "image/png": "[encoded data removed]",
            "text/plain": [
              "<Figure size 432x288 with 1 Axes>"
            ]
          },
          "metadata": {
            "tags": []
          }
        },
        {
          "output_type": "stream",
          "text": [
            "Area under graph for 0 to 500 =  0.4990126083848683\n",
            "Area under graph for 0 to 1000 =  1.0\n",
            "Enter lower limit for range:6\n",
            "Enter upper limit for range:600\n",
            "Area under graph within given graph 0.5952043780620275\n",
            "Enter n = bin till which you want the area: 6\n",
            "area until nth bin: 0.5449982040201358\n"
          ],
          "name": "stdout"
        }
      ]
    },
    {
      "cell_type": "code",
      "metadata": {
        "id": "UOnf13tRyjQI",
        "colab_type": "code",
        "outputId": "5f2efe71-1a27-4c8d-b742-f58457f2a0c0",
        "colab": {
          "base_uri": "https://localhost:8080/",
          "height": 364
        }
      },
      "source": [
        "#Exponential Distribution\n",
        "\n",
        "\n",
        "data_expon = expon.rvs(scale=1,loc=0,size=1000)\n",
        "\n",
        "#low_lim = int(input(\"Enter lower limit value between 0 and 10:\"))\n",
        "#upper_lim = int(input(\"Enter upper limit value greater than lower limit and between 0 and 10:\"))\n",
        "\n",
        "#data_expon = np.sum(data_expon[low_lim:upper_lim]/np.sum(data_expon))\n",
        "#print(data_area)\n",
        "\n",
        "dx = sb.distplot(data_expon, norm_hist=True,\n",
        "                  kde=True,\n",
        "                  bins=100,\n",
        "                  color='skyblue',\n",
        "                  hist_kws={\"linewidth\": 15,'alpha':1})\n",
        "dx.set(xlabel='Exponential Distribution', ylabel='Frequency', xlim = (0,10))\n",
        "\n",
        "# The array is 1000 long - if I integrate from 0 to 500 I therefore end up\n",
        "# getting about 0.5 out which fits what we see\n",
        "print(\"Area under graph for 0 to 500 = \", get_area(data_expon,0,500))\n",
        "\n",
        "#for entire range\n",
        "#get 1.0 as expect\n",
        "print(\"Area under graph for 0 to 1000 = \", get_area(data_expon,0,1000))\n",
        "\n",
        "#enter values between which you want to find probability\n",
        "low_lim_cont_expon = int(input((\"Enter lower limit for range:\")))\n",
        "upper_lim_cont_expon = int(input((\"Enter upper limit for range:\")))\n",
        "\n",
        "print(\"Area under graph within given range\", get_area(data_expon,low_lim_cont_expon,upper_lim_cont_expon))\n",
        "\n",
        "# if you'd want to find the area until the 6th bin, can do this:\n",
        "# 11= number of bins, 6= bin until which to integrate, 1000= number of values in array\n",
        "#enter value for bin you want to find area till\n",
        "#bin_disc_binom = int(input(\"Enter n = bin till which you want the area: \"))\n",
        "\n",
        "#print(\"area until nth bin:\", get_area(binom_data,0,(bin_disc_binom/11)*1000))"
      ],
      "execution_count": 30,
      "outputs": [
        {
          "output_type": "stream",
          "text": [
            "Area under graph for 0 to 500 =  0.5274804078297726\n",
            "Area under graph for 0 to 1000 =  1.0\n",
            "Enter lower limit for range:60\n",
            "Enter upper limit for range:600\n",
            "Area under graph within given range 0.5725505932200404\n"
          ],
          "name": "stdout"
        },
        {
          "output_type": "display_data",
          "data": {
            "image/png": "[encoded data removed]",
            "text/plain": [
              "<Figure size 432x288 with 1 Axes>"
            ]
          },
          "metadata": {
            "tags": []
          }
        }
      ]
    },
    {
      "cell_type": "markdown",
      "metadata": {
        "id": "Clae9PpP9L3R",
        "colab_type": "text"
      },
      "source": [
        "# EXPECTATION VALUES"
      ]
    },
    {
      "cell_type": "code",
      "metadata": {
        "id": "mXY8YhQ1ymov",
        "colab_type": "code",
        "outputId": "8a7fc143-2144-416b-d043-aae62c29be1f",
        "colab": {
          "base_uri": "https://localhost:8080/",
          "height": 317
        }
      },
      "source": [
        "#EXPECTATION VALUES\n",
        "\n",
        "#Discrete Expectation for binomial distribution\n",
        "\n",
        "\n",
        "def expectation_disc(distrib_type,array_size, data_type):\n",
        " \n",
        "  histogram,bins = np.histogram(data_type, bins= 11)\n",
        "  print(\"bins: \",bins)\n",
        "  print(\"frequency \", histogram)\n",
        "\n",
        "  event=[]\n",
        "  for i in histogram:\n",
        "    event.append(i)\n",
        "\n",
        "  #expectation value = bin*probability at that particular bin, summed\n",
        "  m=[]\n",
        "  for i in range(10):\n",
        "   m.append(event[i]*(i+1)/array_size)\n",
        "  expectation=np.sum(m)\n",
        "  print(\"Expectation value for a discrete \", distrib_type , \" : \", round(expectation,2))\n",
        "\n",
        "expectation_disc(\"binomial dist\" , 1000, binom_data)\n",
        "\n",
        "m = np.sum(binom_data)/len(binom_data)\n",
        "print (\"distribution average: \", m)\n",
        "\n",
        "#Continuous Expectation for Poisson distribution\n",
        "\n",
        "\n",
        "def expect_cont(distrib_type, array_size, data_type):\n",
        "\n",
        "  prob = 1/array_size\n",
        "\n",
        "sum = 0  \n",
        "for i in range (0,10):\n",
        "   sum += (data_type[i] * prob)\n",
        "return float(sum)\n",
        "\n",
        "expectation_cont= expect_cont(\"Poisson Continuous Distribution\", 1000, poisson_cont_data)\n",
        "print( \"Expectation of continuous array E(X) is : \", expectation_cont)\n",
        "\n",
        "\n",
        "\n",
        "\n",
        "\n"
      ],
      "execution_count": 36,
      "outputs": [
        {
          "output_type": "stream",
          "text": [
            "bins:  [0.         0.81818182 1.63636364 2.45454545 3.27272727 4.09090909\n",
            " 4.90909091 5.72727273 6.54545455 7.36363636 8.18181818 9.        ]\n",
            "frequency  [  7  47 116 218 251   0 187 116  41  13   4]\n",
            "Expectation value for a discrete  binomial dist  :  5.31\n",
            "distribution average:  3.995\n"
          ],
          "name": "stdout"
        },
        {
          "output_type": "error",
          "ename": "NameError",
          "evalue": "ignored",
          "traceback": [
            "\u001b[0;31m---------------------------------------------------------------------------\u001b[0m",
            "\u001b[0;31mNameError\u001b[0m                                 Traceback (most recent call last)",
            "\u001b[0;32m<ipython-input-36-866edaa5f5df>\u001b[0m in \u001b[0;36m<module>\u001b[0;34m()\u001b[0m\n\u001b[1;32m     32\u001b[0m \u001b[0msum\u001b[0m \u001b[0;34m=\u001b[0m \u001b[0;36m0\u001b[0m\u001b[0;34m\u001b[0m\u001b[0;34m\u001b[0m\u001b[0m\n\u001b[1;32m     33\u001b[0m \u001b[0;32mfor\u001b[0m \u001b[0mi\u001b[0m \u001b[0;32min\u001b[0m \u001b[0mrange\u001b[0m \u001b[0;34m(\u001b[0m\u001b[0;36m0\u001b[0m\u001b[0;34m,\u001b[0m\u001b[0;36m10\u001b[0m\u001b[0;34m)\u001b[0m\u001b[0;34m:\u001b[0m\u001b[0;34m\u001b[0m\u001b[0;34m\u001b[0m\u001b[0m\n\u001b[0;32m---> 34\u001b[0;31m    \u001b[0msum\u001b[0m \u001b[0;34m+=\u001b[0m \u001b[0;34m(\u001b[0m\u001b[0mdata_type\u001b[0m\u001b[0;34m[\u001b[0m\u001b[0mi\u001b[0m\u001b[0;34m]\u001b[0m \u001b[0;34m*\u001b[0m \u001b[0mprob\u001b[0m\u001b[0;34m)\u001b[0m\u001b[0;34m\u001b[0m\u001b[0;34m\u001b[0m\u001b[0m\n\u001b[0m\u001b[1;32m     35\u001b[0m \u001b[0;32mreturn\u001b[0m \u001b[0mfloat\u001b[0m\u001b[0;34m(\u001b[0m\u001b[0msum\u001b[0m\u001b[0;34m)\u001b[0m\u001b[0;34m\u001b[0m\u001b[0;34m\u001b[0m\u001b[0m\n\u001b[1;32m     36\u001b[0m \u001b[0;34m\u001b[0m\u001b[0m\n",
            "\u001b[0;31mNameError\u001b[0m: name 'data_type' is not defined"
          ]
        }
      ]
    },
    {
      "cell_type": "code",
      "metadata": {
        "id": "AIwj3Hx4ysxB",
        "colab_type": "code",
        "outputId": "aed51b4a-3ed4-4ebd-c346-c3400c646c6a",
        "colab": {
          "base_uri": "https://localhost:8080/",
          "height": 119
        }
      },
      "source": [
        "#Follow up task - Deal or no deal\n",
        "import statistics\n",
        "import numpy as np\n",
        "import random\n",
        "from numpy import mean\n",
        "boxes = list(range(1,21))\n",
        "\n",
        "#https://stackoverflow.com/questions/11520492/difference-between-del-remove-and-pop-on-lists\n",
        "#box for not opening chosen\n",
        "boxkeep_remove = random.choice(boxes)\n",
        "#box for not opening removed from list\n",
        "boxes.remove(boxkeep_remove)\n",
        "print (boxes)\n",
        "#box 1 for opening chosen\n",
        "box_1_remove = random.choice(boxes)\n",
        "#box 1 removed from boxes list\n",
        "boxes.remove(box_1_remove)\n",
        "print (boxes)\n",
        "#box 2 for opening chosen\n",
        "box_2_remove = random.choice(boxes)\n",
        "#box 2 removed from boxes list\n",
        "boxes.remove(box_2_remove)\n",
        "print (boxes)\n",
        "#box 3 for opening chosen\n",
        "box_3_remove = random.choice(boxes)\n",
        "#box 3 removed from boxes list\n",
        "boxes.remove(box_3_remove)\n",
        "print (boxes)\n",
        "#re-add the box chosen to not open to boxes list\n",
        "boxes.append(boxkeep_remove)\n",
        "print(\"The mean value of the boxes is: \" , mean(boxes))\n",
        "print(\"However, as the boxes are numbered as whole integers, the expected box is \", np.around(mean(boxes)))\n"
      ],
      "execution_count": 34,
      "outputs": [
        {
          "output_type": "stream",
          "text": [
            "[1, 2, 3, 4, 5, 6, 7, 8, 9, 10, 11, 12, 13, 14, 15, 16, 18, 19, 20]\n",
            "[1, 2, 3, 4, 5, 6, 7, 8, 9, 10, 12, 13, 14, 15, 16, 18, 19, 20]\n",
            "[1, 2, 3, 4, 5, 6, 7, 8, 9, 10, 12, 13, 14, 15, 16, 18, 20]\n",
            "[1, 2, 3, 4, 5, 6, 7, 8, 9, 10, 12, 13, 14, 15, 16, 20]\n",
            "The mean value of the boxes is:  9.529411764705882\n",
            "However, as the boxes are numbered as whole integers, the expected box is  10.0\n"
          ],
          "name": "stdout"
        }
      ]
    }
  ]
}