{
  "nbformat": 4,
  "nbformat_minor": 0,
  "metadata": {
    "colab": {
      "name": "Copy of week1_tasks.ipynb",
      "provenance": [],
      "collapsed_sections": [],
      "authorship_tag": "ABX9TyMvwr+Qo8ty15ZZB/RQ7NSq",
      "include_colab_link": true
    },
    "kernelspec": {
      "name": "python3",
      "display_name": "Python 3"
    }
  },
  "cells": [
    {
      "cell_type": "markdown",
      "metadata": {
        "id": "view-in-github",
        "colab_type": "text"
      },
      "source": [
        "<a href=\"https://colab.research.google.com/github/shania-mitra/PRA3500/blob/master/week1_tasks.ipynb\" target=\"_parent\"><img src=\"https://colab.research.google.com/assets/colab-badge.svg\" alt=\"Open In Colab\"/></a>"
      ]
    },
    {
      "cell_type": "code",
      "metadata": {
        "id": "ZJfdImhZxoHb",
        "colab_type": "code",
        "outputId": "30b9a6a4-91fb-4819-a987-3728865c3866",
        "colab": {
          "base_uri": "https://localhost:8080/",
          "height": 397
        }
      },
      "source": [
        "#Import statements\n",
        "from sympy import symbols, Eq, solve\n",
        "import numpy as np\n",
        "import matplotlib.pyplot as plt\n",
        "from scipy.stats import poisson\n",
        "from scipy.stats import binom\n",
        "import seaborn as sb\n",
        "import sys\n",
        "from scipy.stats import expon\n",
        "\n",
        "\n",
        "\n",
        "#PROBABILITY RELATIONS\n",
        "#converting tree diagram to variables\n",
        "prob_no_antibodies = 0.99\n",
        "prob_antibodies = 1-prob_no_antibodies\n",
        "prob_true_positive = prob_antibodies*0.99\n",
        "prob_false_positive = prob_no_antibodies*0.05\n",
        "prob_true_negative = prob_no_antibodies*0.95\n",
        "prob_false_negative = prob_antibodies*0.01\n",
        "prob_positive = prob_true_positive + prob_false_positive\n",
        "prob_negative = prob_false_negative + prob_true_negative\n",
        "\n",
        "#probability of antibodies given person has positive results P(A|B)\n",
        "probTest_positiveAB = (prob_true_positive)/(prob_positive)\n",
        "print (probTest_positiveAB)\n",
        "\n",
        "# probablility of no antibodies given person has negative results P(A'|B')\n",
        "#using formula 2.4 obtained from Introduction to Statistics and Data Analysis for Physicists by Gerhard Bohm, Günter Zech\n",
        "\n",
        "probTest_negativeAB = (prob_true_negative)/(prob_negative)\n",
        "print(probTest_negativeAB)\n",
        "\n",
        "#FOLLOW UP TASK\n",
        "\n",
        "#P(A) = fraction of people with antibodies/ P(antibodies)\n",
        "#P(B) = probability of kit giving positive result/P(positive)\n",
        "#P(B) = 0.5 \n",
        "#thus, expression obtained for P(B) is 0.5 = 0.99P(A) + 0.05(1-P(A))\n",
        "#in code below, P(A) = x, solve for x:\n",
        "#https://pythonforundergradengineers.com/sympy-expressions-and-equations.html\n",
        "\n",
        "x,y = symbols('x y')\n",
        "expr = 0.99*x  + 0.05*y\n",
        "expr2 = expr.subs(y,1-x)\n",
        "eq1 = Eq(expr2 - 0.5)\n",
        "sol = solve((eq1),(x))\n",
        "sol \n",
        "print('The minimum probability of antibodies found in population if probability of a positive test was to be 0.5 or greater is P(A) =', sol)\n",
        "\n",
        "#graph\n",
        "\n",
        "\n",
        "\n",
        "x = np.arange(0, 1, 0.00000005)\n",
        "y = ((x - 0.05)/0.94)\n",
        "plt.plot(x,y)\n",
        "plt.xlabel('Probability of population with positive tests')\n",
        "plt.ylabel('Probability of population with antibodies present')\n",
        "plt.show()"
      ],
      "execution_count": 0,
      "outputs": [
        {
          "output_type": "stream",
          "text": [
            "/usr/local/lib/python3.6/dist-packages/statsmodels/tools/_testing.py:19: FutureWarning: pandas.util.testing is deprecated. Use the functions in the public API at pandas.testing instead.\n",
            "  import pandas.util.testing as tm\n"
          ],
          "name": "stderr"
        },
        {
          "output_type": "stream",
          "text": [
            "0.1666666666666668\n",
            "0.9998936848819903\n",
            "The minimum probability of antibodies found in population if probability of a positive test was to be 0.5 or greater is P(A) = [0.478723404255319]\n"
          ],
          "name": "stdout"
        },
        {
          "output_type": "display_data",
          "data": {
            "image/png": "[encoded data removed]",
            "text/plain": [
              "<Figure size 432x288 with 1 Axes>"
            ]
          },
          "metadata": {
            "tags": [],
            "needs_background": "light"
          }
        }
      ]
    },
    {
      "cell_type": "code",
      "metadata": {
        "id": "mkB1IprRxxTo",
        "colab_type": "code",
        "colab": {}
      },
      "source": [
        "def get_area(array, upper, lower):\n",
        "  return np.sum(array[int(upper):int(lower)])/np.sum(array)"
      ],
      "execution_count": 0,
      "outputs": []
    },
    {
      "cell_type": "code",
      "metadata": {
        "id": "6JOlXaOKx87s",
        "colab_type": "code",
        "outputId": "4e48d88b-0f9f-481f-ff34-8b4cb217f4d7",
        "colab": {
          "base_uri": "https://localhost:8080/",
          "height": 398
        }
      },
      "source": [
        "#PROBABILITY DISTRIBUTIONS\n",
        "\n",
        "#Poisson Discrete Distribution - number of times an even occurs in a specific time period\n",
        "#eg: predicting how many people will enter your shop on a certain day using the average number of people entering your shop over a certain time period.\n",
        "\n",
        "\n",
        "\n",
        "sb.set_style('white')\n",
        "\n",
        "poisson_data = poisson.rvs(mu = 5, size = 1000)\n",
        "ax = sb.distplot (poisson_data , bins = 11, norm_hist=True,\n",
        "                   kde = False,\n",
        "                   color = 'crimson',\n",
        "                   hist_kws = {\"linewidth\": 15, 'alpha' : 1})\n",
        "ax.set(xlabel = 'Poisson', ylabel = 'Probability', xlim=(0,10))\n",
        "\n",
        "# The array is 1000 long - if I integrate from 0 to 500 I therefore end up\n",
        "# getting about 0.5 out which fits what we see\n",
        "print(\"Area under graph for 0 to 500 = \", get_area(poisson_data,0,500))\n",
        "\n",
        "#for entire range\n",
        "#get 1.0 as expect\n",
        "print(\"Area under graph for 0 to 1000 = \", get_area(poisson_data,0,1000))\n",
        "\n",
        "#enter values between which you want to find probability\n",
        "#if lower value greater than upper value, get 0\n",
        "low_lim_disc_poiss = int(input((\"Enter lower limit for range:\")))\n",
        "upper_lim_disc_poiss = int(input((\"Enter lower limit for range:\")))\n",
        "\n",
        "print(\"Area under graph within given range\", get_area(poisson_data,low_lim_disc_poiss,upper_lim_disc_poiss))\n",
        "\n",
        "# if you'd want to find the area until the 6th bin, can do this:\n",
        "# 11= number of bins, 6= bin until which to integrate, 1000= number of values in array\n",
        "#enter value for bin you want to find area till\n",
        "bin_disc_poiss = int(input(\"Enter n = bin till which you want the area: \"))\n",
        "\n",
        "print(\"area until nth bin:\", get_area(poisson_data,0,(bin_disc_poiss/11)*1000))"
      ],
      "execution_count": 0,
      "outputs": [
        {
          "output_type": "stream",
          "text": [
            "Area under graph for 0 to 500 =  0.5097765363128491\n",
            "Area under graph for 0 to 1000 =  1.0\n",
            "Enter lower limit for range:50\n",
            "Enter lower limit for range:70\n",
            "Area under graph within given range 0.022545889864325618\n",
            "Enter n = bin till which you want the area: 6\n",
            "area until nth bin: 0.5554668794892259\n"
          ],
          "name": "stdout"
        },
        {
          "output_type": "display_data",
          "data": {
            "image/png": "[encoded data removed]",
            "text/plain": [
              "<Figure size 432x288 with 1 Axes>"
            ]
          },
          "metadata": {
            "tags": []
          }
        }
      ]
    },
    {
      "cell_type": "code",
      "metadata": {
        "id": "P7hPX1Bhx_fp",
        "colab_type": "code",
        "outputId": "b5095641-56e4-4f6f-897b-88edd447ba5b",
        "colab": {
          "base_uri": "https://localhost:8080/",
          "height": 347
        }
      },
      "source": [
        "#Poisson continuous distribution\n",
        "\n",
        "sb.set_style('white')\n",
        "\n",
        "poisson_cont_data = poisson.rvs(mu = 5, size = 1000)\n",
        "bx = sb.distplot (poisson_cont_data , norm_hist= True,\n",
        "                   hist = False,\n",
        "                   kde = True,\n",
        "                   color = 'crimson',\n",
        "                   hist_kws = {\"linewidth\": 15, 'alpha' : 1})\n",
        "bx.set(xlabel = 'Poisson', ylabel = 'Probability', xlim=(0,10))\n",
        "\n",
        "#low_lim = int(input(\"Enter lower limit for probability:\"))\n",
        "#upper_lim = int(input(\"Enter upper limit for probability:\"))\n",
        "\n",
        "#area_cont_poisson = np.sum(poisson_data[low_lim,upper_lim])/np.sum(poisson_data)\n",
        "\n",
        "#print (area_cont_poisson)\n",
        "\n",
        "#for entire range\n",
        "#get 1.0 as expect\n",
        "print(\"Area under graph for 0 to 1000 = \", get_area(poisson_cont_data,0,1000))\n",
        "\n",
        "#enter values between which you want to find probability\n",
        "low_lim_cont_poiss = int(input((\"Enter lower limit for range:\")))\n",
        "upper_lim_cont_poiss = int(input((\"Enter lower limit for range:\")))\n",
        "\n",
        "print(\"Area under graph within given range\", get_area(poisson_cont_data,low_lim_disc_poiss,upper_lim_cont_poiss))\n"
      ],
      "execution_count": 0,
      "outputs": [
        {
          "output_type": "stream",
          "text": [
            "Area under graph for 0 to 1000 =  1.0\n",
            "Enter lower limit for range:40\n",
            "Enter lower limit for range:80\n",
            "Area under graph within given range 0.027356230031948883\n"
          ],
          "name": "stdout"
        },
        {
          "output_type": "display_data",
          "data": {
            "image/png": "[encoded data removed]",
            "text/plain": [
              "<Figure size 432x288 with 1 Axes>"
            ]
          },
          "metadata": {
            "tags": []
          }
        }
      ]
    },
    {
      "cell_type": "code",
      "metadata": {
        "id": "wf7NWej_yDao",
        "colab_type": "code",
        "outputId": "5df0275b-0ea8-450d-ce26-db4eef5486e3",
        "colab": {
          "base_uri": "https://localhost:8080/",
          "height": 398
        }
      },
      "source": [
        "#Binomial Distribution\n",
        "\n",
        "\n",
        "sb.set_style('white')\n",
        "\n",
        "binom_data = binom.rvs(n = 10, p = 0.4, size = 1000)\n",
        "ax = sb.distplot (binom_data , bins = 11, hist = True, kde = True, rug=False, fit=None, hist_kws={\"linewidth\": 15, 'alpha' : 1},\n",
        "                  rug_kws=None, fit_kws=None, color = \"crimson\", vertical = False, norm_hist=True, axlabel=None, label=None, ax =None )\n",
        "ax.set(xlabel = 'Binomial', ylabel = 'Probability', xlim=(0,10))\n",
        "\n",
        "# The array is 1000 long - if I integrate from 0 to 500 I therefore end up\n",
        "# getting about 0.5 out which fits what we see\n",
        "print(\"Area under graph for 0 to 500 = \", get_area(binom_data,0,500))\n",
        "\n",
        "#for entire range\n",
        "#get 1.0 as expect\n",
        "print(\"Area under graph for 0 to 1000 = \", get_area(binom_data,0,1000))\n",
        "\n",
        "#enter values between which you want to find probability\n",
        "low_lim_disc_binom = int(input((\"Enter lower limit for range:\")))\n",
        "upper_lim_disc_binom = int(input((\"Enter lower limit for range:\")))\n",
        "\n",
        "print(\"Area under graph for given range\", get_area(binom_data,low_lim_disc_binom,upper_lim_disc_binom))\n",
        "\n",
        "# if you'd want to find the area until the 6th bin, can do this:\n",
        "# 11= number of bins, 6= bin until which to integrate, 1000= number of values in array\n",
        "#enter value for bin you want to find area till\n",
        "bin_disc_binom = int(input(\"Enter n = bin till which you want the area: \"))\n",
        "\n",
        "print(\"area until nth bin:\", get_area(binom_data,0,(bin_disc_binom/11)*1000))\n"
      ],
      "execution_count": 0,
      "outputs": [
        {
          "output_type": "stream",
          "text": [
            "Area under graph for 0 to 500 =  0.49851632047477745\n",
            "Area under graph for 0 to 1000 =  1.0\n",
            "Enter lower limit for range:500\n",
            "Enter lower limit for range:1000\n",
            "Area under graph for given range 0.5014836795252225\n",
            "Enter n = bin till which you want the area: 6\n",
            "area until nth bin: 0.5427794263105836\n"
          ],
          "name": "stdout"
        },
        {
          "output_type": "display_data",
          "data": {
            "image/png": "[encoded data removed]",
            "text/plain": [
              "<Figure size 432x288 with 1 Axes>"
            ]
          },
          "metadata": {
            "tags": []
          }
        }
      ]
    },
    {
      "cell_type": "code",
      "metadata": {
        "id": "Q5gK4VJryeWb",
        "colab_type": "code",
        "outputId": "06b94ac2-4a91-4b96-b875-e4e25139a501",
        "colab": {
          "base_uri": "https://localhost:8080/",
          "height": 645
        }
      },
      "source": [
        "#Gaussian Distribution\n",
        "\n",
        "mean, stdev = 5, 1\n",
        "data = np.random.normal(mean, stdev, 1000)\n",
        "count, bins, ignored = plt.hist(data, 11, density =True, color ='crimson', range=[0,10])\n",
        "\n",
        "\n",
        "#to create bins and histograms\n",
        "a= plt.figure()\n",
        "axes= a.add_axes([0.1,0.1,0.8,0.8])\n",
        "\n",
        "axes.set_xlim([0,10])\n",
        "\n",
        "#Plot the distribution curve \n",
        "plt.plot(bins, 1/ (stdev*np.sqrt(2*np.pi))*np.exp(-(bins - mean)**2/(2*stdev**2)), linewidth =3, color ='y')\n",
        "plt.show()\n",
        "\n",
        "# The array is 1000 long - if I integrate from 0 to 500 I therefore end up\n",
        "# getting about 0.5 out which fits what we see\n",
        "print(\"Area under graph for 0 to 500 = \", get_area(data,0,500))\n",
        "\n",
        "#for entire range\n",
        "#get 1.0 as expect\n",
        "print(\"Area under graph for 0 to 1000 = \", get_area(data,0,1000))\n",
        "\n",
        "#enter values between which you want to find probability\n",
        "low_lim_disc_gauss = int(input((\"Enter lower limit for range:\")))\n",
        "upper_lim_disc_gauss = int(input((\"Enter lower limit for range:\")))\n",
        "\n",
        "print(\"Area under graph within given graph\", get_area(data,low_lim_disc_gauss,upper_lim_disc_gauss))\n",
        "\n",
        "# if you'd want to find the area until the 6th bin, can do this:\n",
        "# 11= number of bins, 6= bin until which to integrate, 1000= number of values in array\n",
        "#enter value for bin you want to find area till\n",
        "bin_disc_gauss = int(input(\"Enter n = bin till which you want the area: \"))\n",
        "\n",
        "print(\"area until nth bin:\", get_area(data,0,(bin_disc_gauss/11)*1000))\n"
      ],
      "execution_count": 0,
      "outputs": [
        {
          "output_type": "display_data",
          "data": {
            "image/png": "[encoded data removed]",
            "text/plain": [
              "<Figure size 432x288 with 1 Axes>"
            ]
          },
          "metadata": {
            "tags": []
          }
        },
        {
          "output_type": "display_data",
          "data": {
            "image/png": "[encoded data removed]",
            "text/plain": [
              "<Figure size 432x288 with 1 Axes>"
            ]
          },
          "metadata": {
            "tags": []
          }
        },
        {
          "output_type": "stream",
          "text": [
            "Area under graph for 0 to 500 =  0.502348260053551\n",
            "Area under graph for 0 to 1000 =  1.0\n",
            "Enter lower limit for range:60\n",
            "Enter lower limit for range:70\n",
            "Area under graph within given graph 0.010662404891034066\n",
            "Enter n = bin till which you want the area: 9\n",
            "area until nth bin: 0.8230979252444186\n"
          ],
          "name": "stdout"
        }
      ]
    },
    {
      "cell_type": "code",
      "metadata": {
        "id": "UOnf13tRyjQI",
        "colab_type": "code",
        "outputId": "4ecec665-dd3e-4e5f-a3d5-3d5a382b3f83",
        "colab": {
          "base_uri": "https://localhost:8080/",
          "height": 364
        }
      },
      "source": [
        "#Exponential Distribution\n",
        "\n",
        "\n",
        "data_expon = expon.rvs(scale=1,loc=0,size=1000)\n",
        "\n",
        "#low_lim = int(input(\"Enter lower limit value between 0 and 10:\"))\n",
        "#upper_lim = int(input(\"Enter upper limit value greater than lower limit and between 0 and 10:\"))\n",
        "\n",
        "#data_expon = np.sum(data_expon[low_lim:upper_lim]/np.sum(data_expon))\n",
        "#print(data_area)\n",
        "\n",
        "dx = sb.distplot(data_expon, norm_hist=True,\n",
        "                  kde=True,\n",
        "                  bins=100,\n",
        "                  color='skyblue',\n",
        "                  hist_kws={\"linewidth\": 15,'alpha':1})\n",
        "dx.set(xlabel='Exponential Distribution', ylabel='Frequency', xlim = (0,10))\n",
        "\n",
        "# The array is 1000 long - if I integrate from 0 to 500 I therefore end up\n",
        "# getting about 0.5 out which fits what we see\n",
        "print(\"Area under graph for 0 to 500 = \", get_area(data_expon,0,500))\n",
        "\n",
        "#for entire range\n",
        "#get 1.0 as expect\n",
        "print(\"Area under graph for 0 to 1000 = \", get_area(data_expon,0,1000))\n",
        "\n",
        "#enter values between which you want to find probability\n",
        "low_lim_cont_expon = int(input((\"Enter lower limit for range:\")))\n",
        "upper_lim_cont_expon = int(input((\"Enter lower limit for range:\")))\n",
        "\n",
        "print(\"Area under graph within given range\", get_area(data_expon,low_lim_cont_expon,upper_lim_cont_expon))\n",
        "\n",
        "# if you'd want to find the area until the 6th bin, can do this:\n",
        "# 11= number of bins, 6= bin until which to integrate, 1000= number of values in array\n",
        "#enter value for bin you want to find area till\n",
        "#bin_disc_binom = int(input(\"Enter n = bin till which you want the area: \"))\n",
        "\n",
        "#print(\"area until nth bin:\", get_area(binom_data,0,(bin_disc_binom/11)*1000))"
      ],
      "execution_count": 0,
      "outputs": [
        {
          "output_type": "stream",
          "text": [
            "Area under graph for 0 to 500 =  0.49435313667001407\n",
            "Area under graph for 0 to 1000 =  1.0\n",
            "Enter lower limit for range:60\n",
            "Enter lower limit for range:80\n",
            "Area under graph within given range 0.018361687116398497\n"
          ],
          "name": "stdout"
        },
        {
          "output_type": "display_data",
          "data": {
            "image/png": "[encoded data removed]",
            "text/plain": [
              "<Figure size 432x288 with 1 Axes>"
            ]
          },
          "metadata": {
            "tags": []
          }
        }
      ]
    },
    {
      "cell_type": "code",
      "metadata": {
        "id": "mXY8YhQ1ymov",
        "colab_type": "code",
        "outputId": "5a40642b-6a76-4841-92d2-a570468ba8c4",
        "colab": {
          "base_uri": "https://localhost:8080/",
          "height": 119
        }
      },
      "source": [
        "#EXPECTATION VALUES\n",
        "\n",
        "#Discrete Expectation for binomial distribution\n",
        "\n",
        "\n",
        "def expectation_disc(distrib_type,array_size, data_type):\n",
        " \n",
        "  histogram,bins = np.histogram(data_type, bins= 11)\n",
        "  print(\"bins: \",bins)\n",
        "  print(\"frequency \", histogram)\n",
        "\n",
        "  event=[]\n",
        "  for i in histogram:\n",
        "    event.append(i)\n",
        "\n",
        "  #expectation value = bin*probability at that particular bin, summed\n",
        "  m=[]\n",
        "  for i in range(10):\n",
        "   m.append(event[i]*(i+1)/array_size)\n",
        "  expectation=np.sum(m)\n",
        "  print(\"Expectation value for a discrete \", distrib_type , \" : \", round(expectation,2))\n",
        "\n",
        "expectation_disc(\"binomial dist\" , 1000, binom_data)\n",
        "\n",
        "m = np.sum(binom_data)/len(binom_data)\n",
        "print (\"distribution average: \", m)\n",
        "\n",
        "#Continuous Expectation for Poisson distribution\n",
        "\n",
        "\n",
        "def expect_cont(distrib_type, data_type, array_size):\n",
        "\n",
        "  prob = 1/array_size\n",
        "\n",
        "  sum=0  \n",
        "  for i in range (0,10):\n",
        "    sum += (data_type[i] * prob)\n",
        "    return float(sum)\n",
        "\n",
        "expectation_cont= expect_cont(\"Poisson Continuous Distribution\", poisson_cont_data, 1000)\n",
        "print( \"Expectation of continuous array E(X) is : \", expectation_cont)\n",
        "\n",
        "\n",
        "\n",
        "\n",
        "\n",
        "\n"
      ],
      "execution_count": 0,
      "outputs": [
        {
          "output_type": "stream",
          "text": [
            "bins:  [0.         0.72727273 1.45454545 2.18181818 2.90909091 3.63636364\n",
            " 4.36363636 5.09090909 5.81818182 6.54545455 7.27272727 8.        ]\n",
            "frequency  [  5  38 125   0 212 231 218   0 108  46  17]\n",
            "Expectation value for a discrete  binomial dist  :  5.86\n",
            "distribution average:  4.044\n",
            "Expectation of continuous array E(X) is :  0.009000000000000001\n"
          ],
          "name": "stdout"
        }
      ]
    },
    {
      "cell_type": "code",
      "metadata": {
        "id": "AIwj3Hx4ysxB",
        "colab_type": "code",
        "outputId": "609faa64-b444-4613-f620-c4684e7ec33c",
        "colab": {
          "base_uri": "https://localhost:8080/",
          "height": 119
        }
      },
      "source": [
        "#Follow up task - Deal or no deal\n",
        "import statistics\n",
        "import numpy as np\n",
        "import random\n",
        "from numpy import mean\n",
        "boxes = list(range(1,21))\n",
        "\n",
        "#https://stackoverflow.com/questions/11520492/difference-between-del-remove-and-pop-on-lists\n",
        "#box for not opening chosen\n",
        "boxkeep_remove = random.choice(boxes)\n",
        "#box for not opening removed from list\n",
        "boxes.remove(boxkeep_remove)\n",
        "print (boxes)\n",
        "#box 1 for opening chosen\n",
        "box_1_remove = random.choice(boxes)\n",
        "#box 1 removed from boxes list\n",
        "boxes.remove(box_1_remove)\n",
        "print (boxes)\n",
        "#box 2 for opening chosen\n",
        "box_2_remove = random.choice(boxes)\n",
        "#box 2 removed from boxes list\n",
        "boxes.remove(box_2_remove)\n",
        "print (boxes)\n",
        "#box 3 for opening chosen\n",
        "box_3_remove = random.choice(boxes)\n",
        "#box 3 removed from boxes list\n",
        "boxes.remove(box_3_remove)\n",
        "print (boxes)\n",
        "#re-add the box chosen to not open to boxes list\n",
        "boxes.append(boxkeep_remove)\n",
        "print(\"The mean value of the boxes is: \" , mean(boxes))\n",
        "print(\"However, as the boxes are numbered as whole integers, the expected box is \", np.around(mean(boxes)))\n"
      ],
      "execution_count": 0,
      "outputs": [
        {
          "output_type": "stream",
          "text": [
            "[2, 3, 4, 5, 6, 7, 8, 9, 10, 11, 12, 13, 14, 15, 16, 17, 18, 19, 20]\n",
            "[2, 3, 4, 5, 6, 7, 8, 9, 10, 11, 12, 13, 14, 15, 16, 18, 19, 20]\n",
            "[3, 4, 5, 6, 7, 8, 9, 10, 11, 12, 13, 14, 15, 16, 18, 19, 20]\n",
            "[3, 4, 5, 6, 7, 8, 10, 11, 12, 13, 14, 15, 16, 18, 19, 20]\n",
            "The mean value of the boxes is:  10.705882352941176\n",
            "However, as the boxes are numbered as whole integers, the expected box is  11.0\n"
          ],
          "name": "stdout"
        }
      ]
    }
  ]
}